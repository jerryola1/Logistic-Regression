{
 "cells": [
  {
   "cell_type": "code",
   "execution_count": 1,
   "id": "15495a41",
   "metadata": {},
   "outputs": [],
   "source": [
    "import pandas as pd\n",
    "import numpy as np\n",
    "import seaborn as sns\n",
    "from sklearn.metrics import accuracy_score\n",
    "import matplotlib.pyplot as plt"
   ]
  },
  {
   "cell_type": "code",
   "execution_count": 2,
   "id": "5a894671",
   "metadata": {},
   "outputs": [],
   "source": [
    "df = pd.read_csv(\"who_data.csv\")"
   ]
  },
  {
   "cell_type": "code",
   "execution_count": 3,
   "id": "cf6dc2d8",
   "metadata": {},
   "outputs": [
    {
     "name": "stdout",
     "output_type": "stream",
     "text": [
      "<class 'pandas.core.frame.DataFrame'>\n",
      "RangeIndex: 32561 entries, 0 to 32560\n",
      "Data columns (total 15 columns):\n",
      " #   Column                  Non-Null Count  Dtype \n",
      "---  ------                  --------------  ----- \n",
      " 0   age                     32561 non-null  int64 \n",
      " 1   workclass               32561 non-null  object\n",
      " 2   fnlwgt                  32561 non-null  int64 \n",
      " 3   education               32561 non-null  object\n",
      " 4   education_no_of_years   32561 non-null  int64 \n",
      " 5   marital_status          32561 non-null  object\n",
      " 6   occupation              32561 non-null  object\n",
      " 7   relationship            32561 non-null  object\n",
      " 8   race                    32561 non-null  object\n",
      " 9   sex                     32561 non-null  object\n",
      " 10  capital_gain            32561 non-null  int64 \n",
      " 11  capital_loss            32561 non-null  int64 \n",
      " 12  working_hours_per_week  32561 non-null  int64 \n",
      " 13  native_country          32561 non-null  object\n",
      " 14  salary                  32561 non-null  object\n",
      "dtypes: int64(6), object(9)\n",
      "memory usage: 3.7+ MB\n"
     ]
    }
   ],
   "source": [
    "df.info()"
   ]
  },
  {
   "cell_type": "code",
   "execution_count": 4,
   "id": "3e8f738f",
   "metadata": {},
   "outputs": [
    {
     "data": {
      "text/plain": [
       "age                       0\n",
       "workclass                 0\n",
       "fnlwgt                    0\n",
       "education                 0\n",
       "education_no_of_years     0\n",
       "marital_status            0\n",
       "occupation                0\n",
       "relationship              0\n",
       "race                      0\n",
       "sex                       0\n",
       "capital_gain              0\n",
       "capital_loss              0\n",
       "working_hours_per_week    0\n",
       "native_country            0\n",
       "salary                    0\n",
       "dtype: int64"
      ]
     },
     "execution_count": 4,
     "metadata": {},
     "output_type": "execute_result"
    }
   ],
   "source": [
    "# checking for missing values\n",
    "df.isna().sum()"
   ]
  },
  {
   "cell_type": "code",
   "execution_count": 5,
   "id": "c182cae0",
   "metadata": {},
   "outputs": [
    {
     "data": {
      "text/html": [
       "<div>\n",
       "<style scoped>\n",
       "    .dataframe tbody tr th:only-of-type {\n",
       "        vertical-align: middle;\n",
       "    }\n",
       "\n",
       "    .dataframe tbody tr th {\n",
       "        vertical-align: top;\n",
       "    }\n",
       "\n",
       "    .dataframe thead th {\n",
       "        text-align: right;\n",
       "    }\n",
       "</style>\n",
       "<table border=\"1\" class=\"dataframe\">\n",
       "  <thead>\n",
       "    <tr style=\"text-align: right;\">\n",
       "      <th></th>\n",
       "      <th>age</th>\n",
       "      <th>workclass</th>\n",
       "      <th>fnlwgt</th>\n",
       "      <th>education</th>\n",
       "      <th>education_no_of_years</th>\n",
       "      <th>marital_status</th>\n",
       "      <th>occupation</th>\n",
       "      <th>relationship</th>\n",
       "      <th>race</th>\n",
       "      <th>sex</th>\n",
       "      <th>capital_gain</th>\n",
       "      <th>capital_loss</th>\n",
       "      <th>working_hours_per_week</th>\n",
       "      <th>native_country</th>\n",
       "      <th>salary</th>\n",
       "    </tr>\n",
       "  </thead>\n",
       "  <tbody>\n",
       "    <tr>\n",
       "      <th>22914</th>\n",
       "      <td>52</td>\n",
       "      <td>Private</td>\n",
       "      <td>443742</td>\n",
       "      <td>Some-college</td>\n",
       "      <td>10</td>\n",
       "      <td>Divorced</td>\n",
       "      <td>Exec-managerial</td>\n",
       "      <td>Not-in-family</td>\n",
       "      <td>White</td>\n",
       "      <td>Male</td>\n",
       "      <td>0</td>\n",
       "      <td>0</td>\n",
       "      <td>60</td>\n",
       "      <td>United-States</td>\n",
       "      <td>&lt;=50K</td>\n",
       "    </tr>\n",
       "    <tr>\n",
       "      <th>27660</th>\n",
       "      <td>40</td>\n",
       "      <td>Self-emp-inc</td>\n",
       "      <td>110862</td>\n",
       "      <td>Assoc-acdm</td>\n",
       "      <td>12</td>\n",
       "      <td>Married-civ-spouse</td>\n",
       "      <td>Craft-repair</td>\n",
       "      <td>Husband</td>\n",
       "      <td>White</td>\n",
       "      <td>Male</td>\n",
       "      <td>0</td>\n",
       "      <td>2377</td>\n",
       "      <td>50</td>\n",
       "      <td>United-States</td>\n",
       "      <td>&lt;=50K</td>\n",
       "    </tr>\n",
       "    <tr>\n",
       "      <th>14880</th>\n",
       "      <td>18</td>\n",
       "      <td>Private</td>\n",
       "      <td>242615</td>\n",
       "      <td>Some-college</td>\n",
       "      <td>10</td>\n",
       "      <td>Never-married</td>\n",
       "      <td>Adm-clerical</td>\n",
       "      <td>Own-child</td>\n",
       "      <td>White</td>\n",
       "      <td>Female</td>\n",
       "      <td>0</td>\n",
       "      <td>0</td>\n",
       "      <td>15</td>\n",
       "      <td>United-States</td>\n",
       "      <td>&lt;=50K</td>\n",
       "    </tr>\n",
       "  </tbody>\n",
       "</table>\n",
       "</div>"
      ],
      "text/plain": [
       "       age      workclass  fnlwgt      education  education_no_of_years  \\\n",
       "22914   52        Private  443742   Some-college                     10   \n",
       "27660   40   Self-emp-inc  110862     Assoc-acdm                     12   \n",
       "14880   18        Private  242615   Some-college                     10   \n",
       "\n",
       "            marital_status        occupation    relationship    race      sex  \\\n",
       "22914             Divorced   Exec-managerial   Not-in-family   White     Male   \n",
       "27660   Married-civ-spouse      Craft-repair         Husband   White     Male   \n",
       "14880        Never-married      Adm-clerical       Own-child   White   Female   \n",
       "\n",
       "       capital_gain  capital_loss  working_hours_per_week  native_country  \\\n",
       "22914             0             0                      60   United-States   \n",
       "27660             0          2377                      50   United-States   \n",
       "14880             0             0                      15   United-States   \n",
       "\n",
       "       salary  \n",
       "22914   <=50K  \n",
       "27660   <=50K  \n",
       "14880   <=50K  "
      ]
     },
     "execution_count": 5,
     "metadata": {},
     "output_type": "execute_result"
    }
   ],
   "source": [
    "# check first random 3 rows\n",
    "df.sample(3)"
   ]
  },
  {
   "cell_type": "code",
   "execution_count": 6,
   "id": "7f3511af",
   "metadata": {},
   "outputs": [
    {
     "data": {
      "text/plain": [
       "(32561, 15)"
      ]
     },
     "execution_count": 6,
     "metadata": {},
     "output_type": "execute_result"
    }
   ],
   "source": [
    "df.shape"
   ]
  },
  {
   "cell_type": "code",
   "execution_count": 7,
   "id": "ee795767",
   "metadata": {},
   "outputs": [
    {
     "data": {
      "text/plain": [
       "count    32561.000000\n",
       "mean        38.581647\n",
       "std         13.640433\n",
       "min         17.000000\n",
       "25%         28.000000\n",
       "50%         37.000000\n",
       "75%         48.000000\n",
       "max         90.000000\n",
       "Name: age, dtype: float64"
      ]
     },
     "execution_count": 7,
     "metadata": {},
     "output_type": "execute_result"
    }
   ],
   "source": [
    "df[\"age\"].describe()"
   ]
  },
  {
   "cell_type": "code",
   "execution_count": 8,
   "id": "38a29056",
   "metadata": {},
   "outputs": [
    {
     "data": {
      "text/plain": [
       "24"
      ]
     },
     "execution_count": 8,
     "metadata": {},
     "output_type": "execute_result"
    }
   ],
   "source": [
    "# checking for duplicated values\n",
    "df.duplicated().sum()"
   ]
  },
  {
   "cell_type": "code",
   "execution_count": 9,
   "id": "235efe95",
   "metadata": {},
   "outputs": [],
   "source": [
    "# drop dulicate values\n",
    "df = df.drop_duplicates()\n",
    "\n",
    "df = df.reset_index(drop=True)"
   ]
  },
  {
   "cell_type": "markdown",
   "id": "b1808a19",
   "metadata": {},
   "source": [
    "### Fixing workclass"
   ]
  },
  {
   "cell_type": "code",
   "execution_count": 10,
   "id": "807ed2fe",
   "metadata": {},
   "outputs": [
    {
     "data": {
      "text/plain": [
       "array([' State-gov', ' Self-emp-not-inc', ' Private', ' Federal-gov',\n",
       "       ' Local-gov', ' ?', ' Self-emp-inc', ' Without-pay',\n",
       "       ' Never-worked'], dtype=object)"
      ]
     },
     "execution_count": 10,
     "metadata": {},
     "output_type": "execute_result"
    }
   ],
   "source": [
    "# checking the unique values in  workspace column\n",
    "df[\"workclass\"].unique()"
   ]
  },
  {
   "cell_type": "code",
   "execution_count": null,
   "id": "f240249f",
   "metadata": {},
   "outputs": [],
   "source": []
  },
  {
   "cell_type": "code",
   "execution_count": 11,
   "id": "d9697308",
   "metadata": {},
   "outputs": [],
   "source": [
    "# replace \" ?\" with \"unknown\"\n",
    "df[\"workclass\"].replace(\" ?\", \"unknown\", inplace = True)"
   ]
  },
  {
   "cell_type": "code",
   "execution_count": 12,
   "id": "93ada07c",
   "metadata": {},
   "outputs": [
    {
     "data": {
      "text/plain": [
       "array([' State-gov', ' Self-emp-not-inc', ' Private', ' Federal-gov',\n",
       "       ' Local-gov', 'unknown', ' Self-emp-inc', ' Without-pay',\n",
       "       ' Never-worked'], dtype=object)"
      ]
     },
     "execution_count": 12,
     "metadata": {},
     "output_type": "execute_result"
    }
   ],
   "source": [
    "df[\"workclass\"].unique()"
   ]
  },
  {
   "cell_type": "code",
   "execution_count": 13,
   "id": "35273ff3",
   "metadata": {},
   "outputs": [],
   "source": [
    "# df[df[\"workclass\"] == \"unknown\"]"
   ]
  },
  {
   "cell_type": "code",
   "execution_count": 14,
   "id": "69be2420",
   "metadata": {},
   "outputs": [],
   "source": [
    "# Remove leading whitespace from each value in the array\n",
    "df[\"workclass\"] = df[\"workclass\"].str.strip()"
   ]
  },
  {
   "cell_type": "code",
   "execution_count": 15,
   "id": "4c064681",
   "metadata": {},
   "outputs": [
    {
     "data": {
      "text/plain": [
       "array(['State-gov', 'Self-emp-not-inc', 'Private', 'Federal-gov',\n",
       "       'Local-gov', 'unknown', 'Self-emp-inc', 'Without-pay',\n",
       "       'Never-worked'], dtype=object)"
      ]
     },
     "execution_count": 15,
     "metadata": {},
     "output_type": "execute_result"
    }
   ],
   "source": [
    "df[\"workclass\"].unique()"
   ]
  },
  {
   "cell_type": "markdown",
   "id": "72019592",
   "metadata": {},
   "source": [
    "### Fixing fnlwgt"
   ]
  },
  {
   "cell_type": "code",
   "execution_count": 16,
   "id": "25bd98e0",
   "metadata": {},
   "outputs": [
    {
     "data": {
      "text/plain": [
       "array([ 77516,  83311, 215646, ...,  34066,  84661, 257302], dtype=int64)"
      ]
     },
     "execution_count": 16,
     "metadata": {},
     "output_type": "execute_result"
    }
   ],
   "source": [
    "# checking the unique values in  workspace column\n",
    "df[\"fnlwgt\"].unique()"
   ]
  },
  {
   "cell_type": "markdown",
   "id": "e399f484",
   "metadata": {},
   "source": [
    "### Fixing education"
   ]
  },
  {
   "cell_type": "code",
   "execution_count": 17,
   "id": "38e2bcbd",
   "metadata": {},
   "outputs": [
    {
     "data": {
      "text/plain": [
       "array([' Bachelors', ' HS-grad', ' 11th', ' Masters', ' 9th',\n",
       "       ' Some-college', ' Assoc-acdm', ' Assoc-voc', ' 7th-8th',\n",
       "       ' Doctorate', ' Prof-school', ' 5th-6th', ' 10th', ' 1st-4th',\n",
       "       ' Preschool', ' 12th'], dtype=object)"
      ]
     },
     "execution_count": 17,
     "metadata": {},
     "output_type": "execute_result"
    }
   ],
   "source": [
    "df['education'].unique()"
   ]
  },
  {
   "cell_type": "code",
   "execution_count": 18,
   "id": "cbc70699",
   "metadata": {},
   "outputs": [],
   "source": [
    "# Remove leading whitespace from each value in the array\n",
    "df[\"education\"] = df[\"education\"].str.strip()"
   ]
  },
  {
   "cell_type": "code",
   "execution_count": 19,
   "id": "eea0e6b0",
   "metadata": {},
   "outputs": [],
   "source": [
    "# Grouping similar categories with unknown\n",
    "df['education'] = df['education'].replace(['1st-4th', '5th-6th', '7th-8th', '9th', \\\n",
    "                                           '10th', '12th', '11th'], 'Unknown')"
   ]
  },
  {
   "cell_type": "code",
   "execution_count": 20,
   "id": "ff759bca",
   "metadata": {},
   "outputs": [
    {
     "data": {
      "text/plain": [
       "HS-grad         10494\n",
       "Some-college     7282\n",
       "Bachelors        5353\n",
       "Unknown          4198\n",
       "Masters          1722\n",
       "Assoc-voc        1382\n",
       "Assoc-acdm       1067\n",
       "Prof-school       576\n",
       "Doctorate         413\n",
       "Preschool          50\n",
       "Name: education, dtype: int64"
      ]
     },
     "execution_count": 20,
     "metadata": {},
     "output_type": "execute_result"
    }
   ],
   "source": [
    "df[\"education\"].value_counts()"
   ]
  },
  {
   "cell_type": "code",
   "execution_count": null,
   "id": "dec77e27",
   "metadata": {},
   "outputs": [],
   "source": []
  },
  {
   "cell_type": "markdown",
   "id": "8748d83a",
   "metadata": {},
   "source": [
    "### Fixing education_no_of_years"
   ]
  },
  {
   "cell_type": "code",
   "execution_count": 21,
   "id": "0708c9c7",
   "metadata": {},
   "outputs": [],
   "source": [
    "# df[\"education_no_of_years\"].value_counts()"
   ]
  },
  {
   "cell_type": "markdown",
   "id": "70297f03",
   "metadata": {},
   "source": [
    "### Fixing \tmarital_status"
   ]
  },
  {
   "cell_type": "code",
   "execution_count": 22,
   "id": "5e9fe1b7",
   "metadata": {},
   "outputs": [
    {
     "data": {
      "text/plain": [
       "array([' Never-married', ' Married-civ-spouse', ' Divorced',\n",
       "       ' Married-spouse-absent', ' Separated', ' Married-AF-spouse',\n",
       "       ' Widowed'], dtype=object)"
      ]
     },
     "execution_count": 22,
     "metadata": {},
     "output_type": "execute_result"
    }
   ],
   "source": [
    "df[\"marital_status\"].unique()"
   ]
  },
  {
   "cell_type": "code",
   "execution_count": 23,
   "id": "978ad8f8",
   "metadata": {},
   "outputs": [],
   "source": [
    "# Remove leading whitespace from each value in the array\n",
    "df[\"marital_status\"] = df[\"marital_status\"].str.strip()"
   ]
  },
  {
   "cell_type": "code",
   "execution_count": 24,
   "id": "496f430c",
   "metadata": {},
   "outputs": [
    {
     "data": {
      "text/plain": [
       "array(['Never-married', 'Married-civ-spouse', 'Divorced',\n",
       "       'Married-spouse-absent', 'Separated', 'Married-AF-spouse',\n",
       "       'Widowed'], dtype=object)"
      ]
     },
     "execution_count": 24,
     "metadata": {},
     "output_type": "execute_result"
    }
   ],
   "source": [
    "df[\"marital_status\"].unique()"
   ]
  },
  {
   "cell_type": "code",
   "execution_count": 25,
   "id": "b124f4dc",
   "metadata": {},
   "outputs": [],
   "source": [
    "# Grouping similar categories\n",
    "df['marital_status'] = df['marital_status'].replace(['Married-civ-spouse', 'Married-AF-spouse'], \\\n",
    "                                                    'Married')"
   ]
  },
  {
   "cell_type": "code",
   "execution_count": 26,
   "id": "056996b1",
   "metadata": {},
   "outputs": [
    {
     "data": {
      "text/plain": [
       "array(['Never-married', 'Married', 'Divorced', 'Married-spouse-absent',\n",
       "       'Separated', 'Widowed'], dtype=object)"
      ]
     },
     "execution_count": 26,
     "metadata": {},
     "output_type": "execute_result"
    }
   ],
   "source": [
    "df[\"marital_status\"].unique()"
   ]
  },
  {
   "cell_type": "code",
   "execution_count": null,
   "id": "fbf9d5ff",
   "metadata": {},
   "outputs": [],
   "source": []
  },
  {
   "cell_type": "markdown",
   "id": "f5d96f94",
   "metadata": {},
   "source": [
    "### Fixing occupation"
   ]
  },
  {
   "cell_type": "code",
   "execution_count": 27,
   "id": "7e230a59",
   "metadata": {},
   "outputs": [
    {
     "data": {
      "text/plain": [
       "array([' Adm-clerical', ' Exec-managerial', ' Handlers-cleaners',\n",
       "       ' Prof-specialty', ' Other-service', ' Sales', ' Craft-repair',\n",
       "       ' Transport-moving', ' Farming-fishing', ' Machine-op-inspct',\n",
       "       ' Tech-support', ' ?', ' Protective-serv', ' Armed-Forces',\n",
       "       ' Priv-house-serv'], dtype=object)"
      ]
     },
     "execution_count": 27,
     "metadata": {},
     "output_type": "execute_result"
    }
   ],
   "source": [
    "df[\"occupation\"].unique()"
   ]
  },
  {
   "cell_type": "code",
   "execution_count": 28,
   "id": "5c366e29",
   "metadata": {},
   "outputs": [],
   "source": [
    "# Remove leading whitespace from each value in the array\n",
    "for col in df.columns:\n",
    "    if df[col].dtype == object:\n",
    "        df[col] = df[col].str.strip()"
   ]
  },
  {
   "cell_type": "code",
   "execution_count": 29,
   "id": "1b962744",
   "metadata": {},
   "outputs": [],
   "source": [
    "# check for \"?\" in all columns and replace with \"missing\"\n",
    "for column in df.columns:\n",
    "    if df[column].dtype == object:\n",
    "        df[column] = df[column].replace('?', 'missing')"
   ]
  },
  {
   "cell_type": "code",
   "execution_count": 30,
   "id": "0e9dadbd",
   "metadata": {},
   "outputs": [
    {
     "data": {
      "text/plain": [
       "array(['State-gov', 'Self-emp-not-inc', 'Private', 'Federal-gov',\n",
       "       'Local-gov', 'unknown', 'Self-emp-inc', 'Without-pay',\n",
       "       'Never-worked'], dtype=object)"
      ]
     },
     "execution_count": 30,
     "metadata": {},
     "output_type": "execute_result"
    }
   ],
   "source": [
    "df[\"workclass\"].unique()"
   ]
  },
  {
   "cell_type": "code",
   "execution_count": 31,
   "id": "07436bc5",
   "metadata": {},
   "outputs": [
    {
     "data": {
      "text/html": [
       "<div>\n",
       "<style scoped>\n",
       "    .dataframe tbody tr th:only-of-type {\n",
       "        vertical-align: middle;\n",
       "    }\n",
       "\n",
       "    .dataframe tbody tr th {\n",
       "        vertical-align: top;\n",
       "    }\n",
       "\n",
       "    .dataframe thead th {\n",
       "        text-align: right;\n",
       "    }\n",
       "</style>\n",
       "<table border=\"1\" class=\"dataframe\">\n",
       "  <thead>\n",
       "    <tr style=\"text-align: right;\">\n",
       "      <th></th>\n",
       "      <th>age</th>\n",
       "      <th>workclass</th>\n",
       "      <th>fnlwgt</th>\n",
       "      <th>education</th>\n",
       "      <th>education_no_of_years</th>\n",
       "      <th>marital_status</th>\n",
       "      <th>occupation</th>\n",
       "      <th>relationship</th>\n",
       "      <th>race</th>\n",
       "      <th>sex</th>\n",
       "      <th>capital_gain</th>\n",
       "      <th>capital_loss</th>\n",
       "      <th>working_hours_per_week</th>\n",
       "      <th>native_country</th>\n",
       "      <th>salary</th>\n",
       "    </tr>\n",
       "  </thead>\n",
       "  <tbody>\n",
       "    <tr>\n",
       "      <th>0</th>\n",
       "      <td>39</td>\n",
       "      <td>State-gov</td>\n",
       "      <td>77516</td>\n",
       "      <td>Bachelors</td>\n",
       "      <td>13</td>\n",
       "      <td>Never-married</td>\n",
       "      <td>Adm-clerical</td>\n",
       "      <td>Not-in-family</td>\n",
       "      <td>White</td>\n",
       "      <td>Male</td>\n",
       "      <td>2174</td>\n",
       "      <td>0</td>\n",
       "      <td>40</td>\n",
       "      <td>United-States</td>\n",
       "      <td>&lt;=50K</td>\n",
       "    </tr>\n",
       "  </tbody>\n",
       "</table>\n",
       "</div>"
      ],
      "text/plain": [
       "   age  workclass  fnlwgt  education  education_no_of_years marital_status  \\\n",
       "0   39  State-gov   77516  Bachelors                     13  Never-married   \n",
       "\n",
       "     occupation   relationship   race   sex  capital_gain  capital_loss  \\\n",
       "0  Adm-clerical  Not-in-family  White  Male          2174             0   \n",
       "\n",
       "   working_hours_per_week native_country salary  \n",
       "0                      40  United-States  <=50K  "
      ]
     },
     "execution_count": 31,
     "metadata": {},
     "output_type": "execute_result"
    }
   ],
   "source": [
    "df.head(1)"
   ]
  },
  {
   "cell_type": "code",
   "execution_count": 32,
   "id": "efff6425",
   "metadata": {},
   "outputs": [
    {
     "data": {
      "text/plain": [
       "array([10494,  7282,  5353,  1722,  1382,  1175,  1067,   933,   645,\n",
       "         576,   514,   433,   413,   332,   166,    50], dtype=int64)"
      ]
     },
     "execution_count": 32,
     "metadata": {},
     "output_type": "execute_result"
    }
   ],
   "source": [
    "df['education_no_of_years'].value_counts().values"
   ]
  },
  {
   "cell_type": "code",
   "execution_count": 33,
   "id": "d3b4d335",
   "metadata": {},
   "outputs": [
    {
     "data": {
      "text/plain": [
       "array(['<=50K', '>50K'], dtype=object)"
      ]
     },
     "execution_count": 33,
     "metadata": {},
     "output_type": "execute_result"
    }
   ],
   "source": [
    "df['salary'].unique()"
   ]
  },
  {
   "cell_type": "code",
   "execution_count": 34,
   "id": "d328558c",
   "metadata": {},
   "outputs": [
    {
     "data": {
      "text/html": [
       "<div>\n",
       "<style scoped>\n",
       "    .dataframe tbody tr th:only-of-type {\n",
       "        vertical-align: middle;\n",
       "    }\n",
       "\n",
       "    .dataframe tbody tr th {\n",
       "        vertical-align: top;\n",
       "    }\n",
       "\n",
       "    .dataframe thead th {\n",
       "        text-align: right;\n",
       "    }\n",
       "</style>\n",
       "<table border=\"1\" class=\"dataframe\">\n",
       "  <thead>\n",
       "    <tr style=\"text-align: right;\">\n",
       "      <th></th>\n",
       "      <th>age</th>\n",
       "      <th>workclass</th>\n",
       "      <th>fnlwgt</th>\n",
       "      <th>education</th>\n",
       "      <th>education_no_of_years</th>\n",
       "      <th>marital_status</th>\n",
       "      <th>occupation</th>\n",
       "      <th>relationship</th>\n",
       "      <th>race</th>\n",
       "      <th>sex</th>\n",
       "      <th>capital_gain</th>\n",
       "      <th>capital_loss</th>\n",
       "      <th>working_hours_per_week</th>\n",
       "      <th>native_country</th>\n",
       "      <th>salary</th>\n",
       "    </tr>\n",
       "  </thead>\n",
       "  <tbody>\n",
       "    <tr>\n",
       "      <th>count</th>\n",
       "      <td>32537.000000</td>\n",
       "      <td>32537</td>\n",
       "      <td>3.253700e+04</td>\n",
       "      <td>32537</td>\n",
       "      <td>32537.000000</td>\n",
       "      <td>32537</td>\n",
       "      <td>32537</td>\n",
       "      <td>32537</td>\n",
       "      <td>32537</td>\n",
       "      <td>32537</td>\n",
       "      <td>32537.000000</td>\n",
       "      <td>32537.000000</td>\n",
       "      <td>32537.000000</td>\n",
       "      <td>32537</td>\n",
       "      <td>32537</td>\n",
       "    </tr>\n",
       "    <tr>\n",
       "      <th>unique</th>\n",
       "      <td>NaN</td>\n",
       "      <td>9</td>\n",
       "      <td>NaN</td>\n",
       "      <td>10</td>\n",
       "      <td>NaN</td>\n",
       "      <td>6</td>\n",
       "      <td>15</td>\n",
       "      <td>6</td>\n",
       "      <td>5</td>\n",
       "      <td>2</td>\n",
       "      <td>NaN</td>\n",
       "      <td>NaN</td>\n",
       "      <td>NaN</td>\n",
       "      <td>42</td>\n",
       "      <td>2</td>\n",
       "    </tr>\n",
       "    <tr>\n",
       "      <th>top</th>\n",
       "      <td>NaN</td>\n",
       "      <td>Private</td>\n",
       "      <td>NaN</td>\n",
       "      <td>HS-grad</td>\n",
       "      <td>NaN</td>\n",
       "      <td>Married</td>\n",
       "      <td>Prof-specialty</td>\n",
       "      <td>Husband</td>\n",
       "      <td>White</td>\n",
       "      <td>Male</td>\n",
       "      <td>NaN</td>\n",
       "      <td>NaN</td>\n",
       "      <td>NaN</td>\n",
       "      <td>United-States</td>\n",
       "      <td>&lt;=50K</td>\n",
       "    </tr>\n",
       "    <tr>\n",
       "      <th>freq</th>\n",
       "      <td>NaN</td>\n",
       "      <td>22673</td>\n",
       "      <td>NaN</td>\n",
       "      <td>10494</td>\n",
       "      <td>NaN</td>\n",
       "      <td>14993</td>\n",
       "      <td>4136</td>\n",
       "      <td>13187</td>\n",
       "      <td>27795</td>\n",
       "      <td>21775</td>\n",
       "      <td>NaN</td>\n",
       "      <td>NaN</td>\n",
       "      <td>NaN</td>\n",
       "      <td>29153</td>\n",
       "      <td>24698</td>\n",
       "    </tr>\n",
       "    <tr>\n",
       "      <th>mean</th>\n",
       "      <td>38.585549</td>\n",
       "      <td>NaN</td>\n",
       "      <td>1.897808e+05</td>\n",
       "      <td>NaN</td>\n",
       "      <td>10.081815</td>\n",
       "      <td>NaN</td>\n",
       "      <td>NaN</td>\n",
       "      <td>NaN</td>\n",
       "      <td>NaN</td>\n",
       "      <td>NaN</td>\n",
       "      <td>1078.443741</td>\n",
       "      <td>87.368227</td>\n",
       "      <td>40.440329</td>\n",
       "      <td>NaN</td>\n",
       "      <td>NaN</td>\n",
       "    </tr>\n",
       "    <tr>\n",
       "      <th>std</th>\n",
       "      <td>13.637984</td>\n",
       "      <td>NaN</td>\n",
       "      <td>1.055565e+05</td>\n",
       "      <td>NaN</td>\n",
       "      <td>2.571633</td>\n",
       "      <td>NaN</td>\n",
       "      <td>NaN</td>\n",
       "      <td>NaN</td>\n",
       "      <td>NaN</td>\n",
       "      <td>NaN</td>\n",
       "      <td>7387.957424</td>\n",
       "      <td>403.101833</td>\n",
       "      <td>12.346889</td>\n",
       "      <td>NaN</td>\n",
       "      <td>NaN</td>\n",
       "    </tr>\n",
       "    <tr>\n",
       "      <th>min</th>\n",
       "      <td>17.000000</td>\n",
       "      <td>NaN</td>\n",
       "      <td>1.228500e+04</td>\n",
       "      <td>NaN</td>\n",
       "      <td>1.000000</td>\n",
       "      <td>NaN</td>\n",
       "      <td>NaN</td>\n",
       "      <td>NaN</td>\n",
       "      <td>NaN</td>\n",
       "      <td>NaN</td>\n",
       "      <td>0.000000</td>\n",
       "      <td>0.000000</td>\n",
       "      <td>1.000000</td>\n",
       "      <td>NaN</td>\n",
       "      <td>NaN</td>\n",
       "    </tr>\n",
       "    <tr>\n",
       "      <th>25%</th>\n",
       "      <td>28.000000</td>\n",
       "      <td>NaN</td>\n",
       "      <td>1.178270e+05</td>\n",
       "      <td>NaN</td>\n",
       "      <td>9.000000</td>\n",
       "      <td>NaN</td>\n",
       "      <td>NaN</td>\n",
       "      <td>NaN</td>\n",
       "      <td>NaN</td>\n",
       "      <td>NaN</td>\n",
       "      <td>0.000000</td>\n",
       "      <td>0.000000</td>\n",
       "      <td>40.000000</td>\n",
       "      <td>NaN</td>\n",
       "      <td>NaN</td>\n",
       "    </tr>\n",
       "    <tr>\n",
       "      <th>50%</th>\n",
       "      <td>37.000000</td>\n",
       "      <td>NaN</td>\n",
       "      <td>1.783560e+05</td>\n",
       "      <td>NaN</td>\n",
       "      <td>10.000000</td>\n",
       "      <td>NaN</td>\n",
       "      <td>NaN</td>\n",
       "      <td>NaN</td>\n",
       "      <td>NaN</td>\n",
       "      <td>NaN</td>\n",
       "      <td>0.000000</td>\n",
       "      <td>0.000000</td>\n",
       "      <td>40.000000</td>\n",
       "      <td>NaN</td>\n",
       "      <td>NaN</td>\n",
       "    </tr>\n",
       "    <tr>\n",
       "      <th>75%</th>\n",
       "      <td>48.000000</td>\n",
       "      <td>NaN</td>\n",
       "      <td>2.369930e+05</td>\n",
       "      <td>NaN</td>\n",
       "      <td>12.000000</td>\n",
       "      <td>NaN</td>\n",
       "      <td>NaN</td>\n",
       "      <td>NaN</td>\n",
       "      <td>NaN</td>\n",
       "      <td>NaN</td>\n",
       "      <td>0.000000</td>\n",
       "      <td>0.000000</td>\n",
       "      <td>45.000000</td>\n",
       "      <td>NaN</td>\n",
       "      <td>NaN</td>\n",
       "    </tr>\n",
       "    <tr>\n",
       "      <th>max</th>\n",
       "      <td>90.000000</td>\n",
       "      <td>NaN</td>\n",
       "      <td>1.484705e+06</td>\n",
       "      <td>NaN</td>\n",
       "      <td>16.000000</td>\n",
       "      <td>NaN</td>\n",
       "      <td>NaN</td>\n",
       "      <td>NaN</td>\n",
       "      <td>NaN</td>\n",
       "      <td>NaN</td>\n",
       "      <td>99999.000000</td>\n",
       "      <td>4356.000000</td>\n",
       "      <td>99.000000</td>\n",
       "      <td>NaN</td>\n",
       "      <td>NaN</td>\n",
       "    </tr>\n",
       "  </tbody>\n",
       "</table>\n",
       "</div>"
      ],
      "text/plain": [
       "                 age workclass        fnlwgt education  education_no_of_years  \\\n",
       "count   32537.000000     32537  3.253700e+04     32537           32537.000000   \n",
       "unique           NaN         9           NaN        10                    NaN   \n",
       "top              NaN   Private           NaN   HS-grad                    NaN   \n",
       "freq             NaN     22673           NaN     10494                    NaN   \n",
       "mean       38.585549       NaN  1.897808e+05       NaN              10.081815   \n",
       "std        13.637984       NaN  1.055565e+05       NaN               2.571633   \n",
       "min        17.000000       NaN  1.228500e+04       NaN               1.000000   \n",
       "25%        28.000000       NaN  1.178270e+05       NaN               9.000000   \n",
       "50%        37.000000       NaN  1.783560e+05       NaN              10.000000   \n",
       "75%        48.000000       NaN  2.369930e+05       NaN              12.000000   \n",
       "max        90.000000       NaN  1.484705e+06       NaN              16.000000   \n",
       "\n",
       "       marital_status      occupation relationship   race    sex  \\\n",
       "count           32537           32537        32537  32537  32537   \n",
       "unique              6              15            6      5      2   \n",
       "top           Married  Prof-specialty      Husband  White   Male   \n",
       "freq            14993            4136        13187  27795  21775   \n",
       "mean              NaN             NaN          NaN    NaN    NaN   \n",
       "std               NaN             NaN          NaN    NaN    NaN   \n",
       "min               NaN             NaN          NaN    NaN    NaN   \n",
       "25%               NaN             NaN          NaN    NaN    NaN   \n",
       "50%               NaN             NaN          NaN    NaN    NaN   \n",
       "75%               NaN             NaN          NaN    NaN    NaN   \n",
       "max               NaN             NaN          NaN    NaN    NaN   \n",
       "\n",
       "        capital_gain  capital_loss  working_hours_per_week native_country  \\\n",
       "count   32537.000000  32537.000000            32537.000000          32537   \n",
       "unique           NaN           NaN                     NaN             42   \n",
       "top              NaN           NaN                     NaN  United-States   \n",
       "freq             NaN           NaN                     NaN          29153   \n",
       "mean     1078.443741     87.368227               40.440329            NaN   \n",
       "std      7387.957424    403.101833               12.346889            NaN   \n",
       "min         0.000000      0.000000                1.000000            NaN   \n",
       "25%         0.000000      0.000000               40.000000            NaN   \n",
       "50%         0.000000      0.000000               40.000000            NaN   \n",
       "75%         0.000000      0.000000               45.000000            NaN   \n",
       "max     99999.000000   4356.000000               99.000000            NaN   \n",
       "\n",
       "       salary  \n",
       "count   32537  \n",
       "unique      2  \n",
       "top     <=50K  \n",
       "freq    24698  \n",
       "mean      NaN  \n",
       "std       NaN  \n",
       "min       NaN  \n",
       "25%       NaN  \n",
       "50%       NaN  \n",
       "75%       NaN  \n",
       "max       NaN  "
      ]
     },
     "execution_count": 34,
     "metadata": {},
     "output_type": "execute_result"
    }
   ],
   "source": [
    "df.describe(include=\"all\")"
   ]
  },
  {
   "cell_type": "code",
   "execution_count": null,
   "id": "86307ba8",
   "metadata": {},
   "outputs": [],
   "source": []
  },
  {
   "cell_type": "code",
   "execution_count": null,
   "id": "a614136a",
   "metadata": {},
   "outputs": [],
   "source": []
  },
  {
   "cell_type": "code",
   "execution_count": 35,
   "id": "88d3ca73",
   "metadata": {},
   "outputs": [],
   "source": [
    "from utils import labeled_barplots\n",
    "from utils import histogram_boxplot\n",
    "from utils import custom_scatterplot"
   ]
  },
  {
   "cell_type": "code",
   "execution_count": 36,
   "id": "e0b5abe1",
   "metadata": {},
   "outputs": [],
   "source": [
    "# labeled_barplots(data = df, feature=\"marital_status\", perc=True)"
   ]
  },
  {
   "cell_type": "markdown",
   "id": "cfe2a920",
   "metadata": {},
   "source": [
    "#### Univariate Analysis\n",
    "\n",
    "- Numerical Feautures"
   ]
  },
  {
   "cell_type": "code",
   "execution_count": 37,
   "id": "a27d135a",
   "metadata": {},
   "outputs": [
    {
     "data": {
      "image/png": "[encoded data removed]",
      "text/plain": [
       "<Figure size 1200x700 with 2 Axes>"
      ]
     },
     "metadata": {},
     "output_type": "display_data"
    }
   ],
   "source": [
    "histogram_boxplot(data=df, feature=\"age\")"
   ]
  },
  {
   "cell_type": "markdown",
   "id": "d1de6bce",
   "metadata": {},
   "source": [
    "- This plot shows that alot there are more younger people and fewer in the WHO data and the is sqwed to the left\n",
    "- The median age in this data tends to be around 38 years even thoug there are outliers in the age, which means there are fewer older people from the upper wiaker, i.e from age 80 above"
   ]
  },
  {
   "cell_type": "markdown",
   "id": "55e4c173",
   "metadata": {},
   "source": [
    "#### Univariate analysis \n",
    "\n",
    "- Categorical Feautures"
   ]
  },
  {
   "cell_type": "code",
   "execution_count": 38,
   "id": "33a495f2",
   "metadata": {},
   "outputs": [
    {
     "data": {
      "image/png": "[encoded data removed]",
      "text/plain": [
       "<Figure size 1100x500 with 1 Axes>"
      ]
     },
     "metadata": {},
     "output_type": "display_data"
    }
   ],
   "source": [
    "labeled_barplots(data=df, feature=\"education\", perc=True, title=\"Distibution of Education\")"
   ]
  },
  {
   "cell_type": "markdown",
   "id": "fc27d76f",
   "metadata": {},
   "source": [
    "- In the data the givernment got from WHO, most of the people educational degree is HS-grade with\n",
    "  32% and the second most degree is some-college with 22%\n",
    "- Preschol degree holder are very few among them"
   ]
  },
  {
   "cell_type": "code",
   "execution_count": null,
   "id": "44506014",
   "metadata": {},
   "outputs": [],
   "source": []
  },
  {
   "cell_type": "code",
   "execution_count": 39,
   "id": "b447c239",
   "metadata": {},
   "outputs": [
    {
     "data": {
      "image/png": "[encoded data removed]",
      "text/plain": [
       "<Figure size 700x500 with 1 Axes>"
      ]
     },
     "metadata": {},
     "output_type": "display_data"
    }
   ],
   "source": [
    "labeled_barplots(data=df, feature=\"marital_status\", perc=True, \\\n",
    "                 title=\"Distibution of Marital Status\")"
   ]
  },
  {
   "cell_type": "markdown",
   "id": "602f35a9",
   "metadata": {},
   "source": [
    "- A lof of people in the dataset are married, only few are have their status to be Married-spouse-absent, the second most is the Never-married category, problably they are single"
   ]
  },
  {
   "cell_type": "code",
   "execution_count": null,
   "id": "4ef2b1be",
   "metadata": {},
   "outputs": [],
   "source": []
  },
  {
   "cell_type": "code",
   "execution_count": null,
   "id": "dd640a4b",
   "metadata": {},
   "outputs": [],
   "source": []
  },
  {
   "cell_type": "code",
   "execution_count": 40,
   "id": "f612d548",
   "metadata": {},
   "outputs": [],
   "source": [
    "from utils import custom_scatterplot"
   ]
  },
  {
   "cell_type": "code",
   "execution_count": 41,
   "id": "ed8c2dc8",
   "metadata": {},
   "outputs": [],
   "source": [
    "# custom_scatterplot(x=\"marital_status\", y=\"salary\", title=\"Age against salary\", data=df)"
   ]
  },
  {
   "cell_type": "code",
   "execution_count": 42,
   "id": "0f163efd",
   "metadata": {},
   "outputs": [
    {
     "data": {
      "text/plain": [
       "['age',\n",
       " 'workclass',\n",
       " 'fnlwgt',\n",
       " 'education',\n",
       " 'education_no_of_years',\n",
       " 'marital_status',\n",
       " 'occupation',\n",
       " 'relationship',\n",
       " 'race',\n",
       " 'sex',\n",
       " 'capital_gain',\n",
       " 'capital_loss',\n",
       " 'working_hours_per_week',\n",
       " 'native_country',\n",
       " 'salary']"
      ]
     },
     "execution_count": 42,
     "metadata": {},
     "output_type": "execute_result"
    }
   ],
   "source": [
    "ind_variable = list(df.columns)\n",
    "ind_variable"
   ]
  },
  {
   "cell_type": "markdown",
   "id": "52d718d8",
   "metadata": {},
   "source": [
    "## Data Preprocessing"
   ]
  },
  {
   "cell_type": "code",
   "execution_count": 43,
   "id": "ab4490a8",
   "metadata": {},
   "outputs": [],
   "source": [
    "# correlation = df.corr()\n",
    "\n",
    "# plt.figure(figsize = (8, 5))\n",
    "# sns.heatmap(correlation, annot=True, vmax= 1, vmin= -1, cmap=\"Spectral\")"
   ]
  },
  {
   "cell_type": "markdown",
   "id": "bad4ef9e",
   "metadata": {},
   "source": [
    "### Outliers detection"
   ]
  },
  {
   "cell_type": "code",
   "execution_count": 44,
   "id": "e56952d5",
   "metadata": {},
   "outputs": [],
   "source": [
    "numerical_data = df.select_dtypes(include=\"number\")"
   ]
  },
  {
   "cell_type": "code",
   "execution_count": 45,
   "id": "b4089cd4",
   "metadata": {},
   "outputs": [
    {
     "data": {
      "image/png": "[encoded data removed]",
      "text/plain": [
       "<Figure size 2000x3000 with 6 Axes>"
      ]
     },
     "metadata": {},
     "output_type": "display_data"
    }
   ],
   "source": [
    "# outlier detection using boxplot\n",
    "\n",
    "plt.figure(figsize = (20, 30))\n",
    "\n",
    "for i, variable in enumerate(numerical_data):\n",
    "  plt.subplot(5, 4, i + 1)\n",
    "  plt.boxplot(df[variable])\n",
    "  plt.title(variable)\n",
    "\n",
    "plt.show()"
   ]
  },
  {
   "cell_type": "markdown",
   "id": "5ccd348b",
   "metadata": {},
   "source": [
    "### Outliers Treatment"
   ]
  },
  {
   "cell_type": "code",
   "execution_count": 46,
   "id": "313b7248",
   "metadata": {},
   "outputs": [],
   "source": [
    "from utils import treat_outliers\n",
    "from utils import treat_outliers_all"
   ]
  },
  {
   "cell_type": "code",
   "execution_count": 47,
   "id": "e8798d47",
   "metadata": {},
   "outputs": [],
   "source": [
    "df = treat_outliers_all(df, numerical_data)"
   ]
  },
  {
   "cell_type": "code",
   "execution_count": 48,
   "id": "235a0956",
   "metadata": {},
   "outputs": [
    {
     "data": {
      "image/png": "[encoded data removed]",
      "text/plain": [
       "<Figure size 2000x3000 with 6 Axes>"
      ]
     },
     "metadata": {},
     "output_type": "display_data"
    }
   ],
   "source": [
    "plt.figure(figsize = (20, 30))\n",
    "\n",
    "for i, variable in enumerate(numerical_data):\n",
    "  plt.subplot(5, 4, i + 1)\n",
    "  plt.boxplot(df[variable])\n",
    "  plt.title(variable)\n",
    "\n",
    "plt.show()"
   ]
  },
  {
   "cell_type": "code",
   "execution_count": 49,
   "id": "7a0a9bba",
   "metadata": {},
   "outputs": [
    {
     "data": {
      "text/html": [
       "<div>\n",
       "<style scoped>\n",
       "    .dataframe tbody tr th:only-of-type {\n",
       "        vertical-align: middle;\n",
       "    }\n",
       "\n",
       "    .dataframe tbody tr th {\n",
       "        vertical-align: top;\n",
       "    }\n",
       "\n",
       "    .dataframe thead th {\n",
       "        text-align: right;\n",
       "    }\n",
       "</style>\n",
       "<table border=\"1\" class=\"dataframe\">\n",
       "  <thead>\n",
       "    <tr style=\"text-align: right;\">\n",
       "      <th></th>\n",
       "      <th>age</th>\n",
       "      <th>fnlwgt</th>\n",
       "      <th>education_no_of_years</th>\n",
       "      <th>capital_gain</th>\n",
       "      <th>capital_loss</th>\n",
       "      <th>working_hours_per_week</th>\n",
       "    </tr>\n",
       "  </thead>\n",
       "  <tbody>\n",
       "    <tr>\n",
       "      <th>count</th>\n",
       "      <td>32537.000000</td>\n",
       "      <td>32537.000000</td>\n",
       "      <td>32537.000000</td>\n",
       "      <td>32537.0</td>\n",
       "      <td>32537.0</td>\n",
       "      <td>32537.000000</td>\n",
       "    </tr>\n",
       "    <tr>\n",
       "      <th>mean</th>\n",
       "      <td>38.559855</td>\n",
       "      <td>186824.961736</td>\n",
       "      <td>10.125165</td>\n",
       "      <td>0.0</td>\n",
       "      <td>0.0</td>\n",
       "      <td>41.203246</td>\n",
       "    </tr>\n",
       "    <tr>\n",
       "      <th>std</th>\n",
       "      <td>13.554847</td>\n",
       "      <td>95118.115529</td>\n",
       "      <td>2.459436</td>\n",
       "      <td>0.0</td>\n",
       "      <td>0.0</td>\n",
       "      <td>6.187352</td>\n",
       "    </tr>\n",
       "    <tr>\n",
       "      <th>min</th>\n",
       "      <td>17.000000</td>\n",
       "      <td>12285.000000</td>\n",
       "      <td>4.500000</td>\n",
       "      <td>0.0</td>\n",
       "      <td>0.0</td>\n",
       "      <td>32.500000</td>\n",
       "    </tr>\n",
       "    <tr>\n",
       "      <th>25%</th>\n",
       "      <td>28.000000</td>\n",
       "      <td>117827.000000</td>\n",
       "      <td>9.000000</td>\n",
       "      <td>0.0</td>\n",
       "      <td>0.0</td>\n",
       "      <td>40.000000</td>\n",
       "    </tr>\n",
       "    <tr>\n",
       "      <th>50%</th>\n",
       "      <td>37.000000</td>\n",
       "      <td>178356.000000</td>\n",
       "      <td>10.000000</td>\n",
       "      <td>0.0</td>\n",
       "      <td>0.0</td>\n",
       "      <td>40.000000</td>\n",
       "    </tr>\n",
       "    <tr>\n",
       "      <th>75%</th>\n",
       "      <td>48.000000</td>\n",
       "      <td>236993.000000</td>\n",
       "      <td>12.000000</td>\n",
       "      <td>0.0</td>\n",
       "      <td>0.0</td>\n",
       "      <td>45.000000</td>\n",
       "    </tr>\n",
       "    <tr>\n",
       "      <th>max</th>\n",
       "      <td>78.000000</td>\n",
       "      <td>415742.000000</td>\n",
       "      <td>16.000000</td>\n",
       "      <td>0.0</td>\n",
       "      <td>0.0</td>\n",
       "      <td>52.500000</td>\n",
       "    </tr>\n",
       "  </tbody>\n",
       "</table>\n",
       "</div>"
      ],
      "text/plain": [
       "                age         fnlwgt  education_no_of_years  capital_gain  \\\n",
       "count  32537.000000   32537.000000           32537.000000       32537.0   \n",
       "mean      38.559855  186824.961736              10.125165           0.0   \n",
       "std       13.554847   95118.115529               2.459436           0.0   \n",
       "min       17.000000   12285.000000               4.500000           0.0   \n",
       "25%       28.000000  117827.000000               9.000000           0.0   \n",
       "50%       37.000000  178356.000000              10.000000           0.0   \n",
       "75%       48.000000  236993.000000              12.000000           0.0   \n",
       "max       78.000000  415742.000000              16.000000           0.0   \n",
       "\n",
       "       capital_loss  working_hours_per_week  \n",
       "count       32537.0            32537.000000  \n",
       "mean            0.0               41.203246  \n",
       "std             0.0                6.187352  \n",
       "min             0.0               32.500000  \n",
       "25%             0.0               40.000000  \n",
       "50%             0.0               40.000000  \n",
       "75%             0.0               45.000000  \n",
       "max             0.0               52.500000  "
      ]
     },
     "execution_count": 49,
     "metadata": {},
     "output_type": "execute_result"
    }
   ],
   "source": [
    "df.describe()"
   ]
  },
  {
   "cell_type": "code",
   "execution_count": null,
   "id": "751da296",
   "metadata": {},
   "outputs": [],
   "source": []
  },
  {
   "cell_type": "code",
   "execution_count": 50,
   "id": "5fd7f7ae",
   "metadata": {},
   "outputs": [],
   "source": [
    "# Create a mapping dictionary to map categories to numerical values\n",
    "salary_mapping = {'<=50K': 0, '>50K': 1}\n",
    "\n",
    "# Apply the mapping to the 'salary' column\n",
    "df['map_salary'] = df['salary'].map(salary_mapping)\n",
    "\n",
    "# data.drop('salary', axis=1, inplace=True)\n"
   ]
  },
  {
   "cell_type": "code",
   "execution_count": 51,
   "id": "5b2d1d63",
   "metadata": {},
   "outputs": [
    {
     "data": {
      "text/html": [
       "<div>\n",
       "<style scoped>\n",
       "    .dataframe tbody tr th:only-of-type {\n",
       "        vertical-align: middle;\n",
       "    }\n",
       "\n",
       "    .dataframe tbody tr th {\n",
       "        vertical-align: top;\n",
       "    }\n",
       "\n",
       "    .dataframe thead th {\n",
       "        text-align: right;\n",
       "    }\n",
       "</style>\n",
       "<table border=\"1\" class=\"dataframe\">\n",
       "  <thead>\n",
       "    <tr style=\"text-align: right;\">\n",
       "      <th></th>\n",
       "      <th>age</th>\n",
       "      <th>workclass</th>\n",
       "      <th>fnlwgt</th>\n",
       "      <th>education</th>\n",
       "      <th>education_no_of_years</th>\n",
       "      <th>marital_status</th>\n",
       "      <th>occupation</th>\n",
       "      <th>relationship</th>\n",
       "      <th>race</th>\n",
       "      <th>sex</th>\n",
       "      <th>capital_gain</th>\n",
       "      <th>capital_loss</th>\n",
       "      <th>working_hours_per_week</th>\n",
       "      <th>native_country</th>\n",
       "      <th>salary</th>\n",
       "      <th>map_salary</th>\n",
       "    </tr>\n",
       "  </thead>\n",
       "  <tbody>\n",
       "    <tr>\n",
       "      <th>7205</th>\n",
       "      <td>45</td>\n",
       "      <td>Self-emp-inc</td>\n",
       "      <td>34091</td>\n",
       "      <td>Bachelors</td>\n",
       "      <td>13.0</td>\n",
       "      <td>Married</td>\n",
       "      <td>Exec-managerial</td>\n",
       "      <td>Husband</td>\n",
       "      <td>White</td>\n",
       "      <td>Male</td>\n",
       "      <td>0</td>\n",
       "      <td>0</td>\n",
       "      <td>38.0</td>\n",
       "      <td>United-States</td>\n",
       "      <td>&gt;50K</td>\n",
       "      <td>1</td>\n",
       "    </tr>\n",
       "    <tr>\n",
       "      <th>13034</th>\n",
       "      <td>58</td>\n",
       "      <td>Private</td>\n",
       "      <td>214502</td>\n",
       "      <td>Unknown</td>\n",
       "      <td>5.0</td>\n",
       "      <td>Married</td>\n",
       "      <td>Handlers-cleaners</td>\n",
       "      <td>Husband</td>\n",
       "      <td>White</td>\n",
       "      <td>Male</td>\n",
       "      <td>0</td>\n",
       "      <td>0</td>\n",
       "      <td>50.0</td>\n",
       "      <td>United-States</td>\n",
       "      <td>&gt;50K</td>\n",
       "      <td>1</td>\n",
       "    </tr>\n",
       "  </tbody>\n",
       "</table>\n",
       "</div>"
      ],
      "text/plain": [
       "       age     workclass  fnlwgt  education  education_no_of_years  \\\n",
       "7205    45  Self-emp-inc   34091  Bachelors                   13.0   \n",
       "13034   58       Private  214502    Unknown                    5.0   \n",
       "\n",
       "      marital_status         occupation relationship   race   sex  \\\n",
       "7205         Married    Exec-managerial      Husband  White  Male   \n",
       "13034        Married  Handlers-cleaners      Husband  White  Male   \n",
       "\n",
       "       capital_gain  capital_loss  working_hours_per_week native_country  \\\n",
       "7205              0             0                    38.0  United-States   \n",
       "13034             0             0                    50.0  United-States   \n",
       "\n",
       "      salary  map_salary  \n",
       "7205    >50K           1  \n",
       "13034   >50K           1  "
      ]
     },
     "execution_count": 51,
     "metadata": {},
     "output_type": "execute_result"
    }
   ],
   "source": [
    "df.sample(2)"
   ]
  },
  {
   "cell_type": "markdown",
   "id": "64ce9dba",
   "metadata": {},
   "source": [
    "### Building the model"
   ]
  },
  {
   "cell_type": "code",
   "execution_count": 52,
   "id": "cdc138ec",
   "metadata": {},
   "outputs": [],
   "source": [
    "# import required libraries\n",
    "from sklearn.model_selection import train_test_split\n",
    "from sklearn.preprocessing import StandardScaler, MinMaxScaler\n",
    "from sklearn.linear_model import LinearRegression"
   ]
  },
  {
   "cell_type": "code",
   "execution_count": 53,
   "id": "f2fff0b6",
   "metadata": {},
   "outputs": [],
   "source": [
    "# select the relevant features with the target\n",
    "X = df[[\"age\", \"education\", \"occupation\", \"working_hours_per_week\"]]\n",
    "y = df[\"map_salary\"]"
   ]
  },
  {
   "cell_type": "code",
   "execution_count": 54,
   "id": "e500f905",
   "metadata": {},
   "outputs": [
    {
     "data": {
      "text/plain": [
       "age                       0\n",
       "education                 0\n",
       "occupation                0\n",
       "working_hours_per_week    0\n",
       "dtype: int64"
      ]
     },
     "execution_count": 54,
     "metadata": {},
     "output_type": "execute_result"
    }
   ],
   "source": [
    "X.isnull().sum()"
   ]
  },
  {
   "cell_type": "code",
   "execution_count": 55,
   "id": "bcf1eaed",
   "metadata": {},
   "outputs": [],
   "source": [
    "# perform OneHotEncoding on the independent variables\n",
    "X = pd.get_dummies(X, drop_first = True)"
   ]
  },
  {
   "cell_type": "code",
   "execution_count": 56,
   "id": "4eb0c7ca",
   "metadata": {},
   "outputs": [
    {
     "data": {
      "text/html": [
       "<div>\n",
       "<style scoped>\n",
       "    .dataframe tbody tr th:only-of-type {\n",
       "        vertical-align: middle;\n",
       "    }\n",
       "\n",
       "    .dataframe tbody tr th {\n",
       "        vertical-align: top;\n",
       "    }\n",
       "\n",
       "    .dataframe thead th {\n",
       "        text-align: right;\n",
       "    }\n",
       "</style>\n",
       "<table border=\"1\" class=\"dataframe\">\n",
       "  <thead>\n",
       "    <tr style=\"text-align: right;\">\n",
       "      <th></th>\n",
       "      <th>age</th>\n",
       "      <th>working_hours_per_week</th>\n",
       "      <th>education_Assoc-voc</th>\n",
       "      <th>education_Bachelors</th>\n",
       "      <th>education_Doctorate</th>\n",
       "      <th>education_HS-grad</th>\n",
       "      <th>education_Masters</th>\n",
       "      <th>education_Preschool</th>\n",
       "      <th>education_Prof-school</th>\n",
       "      <th>education_Some-college</th>\n",
       "      <th>...</th>\n",
       "      <th>occupation_Handlers-cleaners</th>\n",
       "      <th>occupation_Machine-op-inspct</th>\n",
       "      <th>occupation_Other-service</th>\n",
       "      <th>occupation_Priv-house-serv</th>\n",
       "      <th>occupation_Prof-specialty</th>\n",
       "      <th>occupation_Protective-serv</th>\n",
       "      <th>occupation_Sales</th>\n",
       "      <th>occupation_Tech-support</th>\n",
       "      <th>occupation_Transport-moving</th>\n",
       "      <th>occupation_missing</th>\n",
       "    </tr>\n",
       "  </thead>\n",
       "  <tbody>\n",
       "    <tr>\n",
       "      <th>0</th>\n",
       "      <td>39</td>\n",
       "      <td>40.0</td>\n",
       "      <td>0</td>\n",
       "      <td>1</td>\n",
       "      <td>0</td>\n",
       "      <td>0</td>\n",
       "      <td>0</td>\n",
       "      <td>0</td>\n",
       "      <td>0</td>\n",
       "      <td>0</td>\n",
       "      <td>...</td>\n",
       "      <td>0</td>\n",
       "      <td>0</td>\n",
       "      <td>0</td>\n",
       "      <td>0</td>\n",
       "      <td>0</td>\n",
       "      <td>0</td>\n",
       "      <td>0</td>\n",
       "      <td>0</td>\n",
       "      <td>0</td>\n",
       "      <td>0</td>\n",
       "    </tr>\n",
       "    <tr>\n",
       "      <th>1</th>\n",
       "      <td>50</td>\n",
       "      <td>32.5</td>\n",
       "      <td>0</td>\n",
       "      <td>1</td>\n",
       "      <td>0</td>\n",
       "      <td>0</td>\n",
       "      <td>0</td>\n",
       "      <td>0</td>\n",
       "      <td>0</td>\n",
       "      <td>0</td>\n",
       "      <td>...</td>\n",
       "      <td>0</td>\n",
       "      <td>0</td>\n",
       "      <td>0</td>\n",
       "      <td>0</td>\n",
       "      <td>0</td>\n",
       "      <td>0</td>\n",
       "      <td>0</td>\n",
       "      <td>0</td>\n",
       "      <td>0</td>\n",
       "      <td>0</td>\n",
       "    </tr>\n",
       "    <tr>\n",
       "      <th>2</th>\n",
       "      <td>38</td>\n",
       "      <td>40.0</td>\n",
       "      <td>0</td>\n",
       "      <td>0</td>\n",
       "      <td>0</td>\n",
       "      <td>1</td>\n",
       "      <td>0</td>\n",
       "      <td>0</td>\n",
       "      <td>0</td>\n",
       "      <td>0</td>\n",
       "      <td>...</td>\n",
       "      <td>1</td>\n",
       "      <td>0</td>\n",
       "      <td>0</td>\n",
       "      <td>0</td>\n",
       "      <td>0</td>\n",
       "      <td>0</td>\n",
       "      <td>0</td>\n",
       "      <td>0</td>\n",
       "      <td>0</td>\n",
       "      <td>0</td>\n",
       "    </tr>\n",
       "    <tr>\n",
       "      <th>3</th>\n",
       "      <td>53</td>\n",
       "      <td>40.0</td>\n",
       "      <td>0</td>\n",
       "      <td>0</td>\n",
       "      <td>0</td>\n",
       "      <td>0</td>\n",
       "      <td>0</td>\n",
       "      <td>0</td>\n",
       "      <td>0</td>\n",
       "      <td>0</td>\n",
       "      <td>...</td>\n",
       "      <td>1</td>\n",
       "      <td>0</td>\n",
       "      <td>0</td>\n",
       "      <td>0</td>\n",
       "      <td>0</td>\n",
       "      <td>0</td>\n",
       "      <td>0</td>\n",
       "      <td>0</td>\n",
       "      <td>0</td>\n",
       "      <td>0</td>\n",
       "    </tr>\n",
       "    <tr>\n",
       "      <th>4</th>\n",
       "      <td>28</td>\n",
       "      <td>40.0</td>\n",
       "      <td>0</td>\n",
       "      <td>1</td>\n",
       "      <td>0</td>\n",
       "      <td>0</td>\n",
       "      <td>0</td>\n",
       "      <td>0</td>\n",
       "      <td>0</td>\n",
       "      <td>0</td>\n",
       "      <td>...</td>\n",
       "      <td>0</td>\n",
       "      <td>0</td>\n",
       "      <td>0</td>\n",
       "      <td>0</td>\n",
       "      <td>1</td>\n",
       "      <td>0</td>\n",
       "      <td>0</td>\n",
       "      <td>0</td>\n",
       "      <td>0</td>\n",
       "      <td>0</td>\n",
       "    </tr>\n",
       "  </tbody>\n",
       "</table>\n",
       "<p>5 rows × 25 columns</p>\n",
       "</div>"
      ],
      "text/plain": [
       "   age  working_hours_per_week  education_Assoc-voc  education_Bachelors  \\\n",
       "0   39                    40.0                    0                    1   \n",
       "1   50                    32.5                    0                    1   \n",
       "2   38                    40.0                    0                    0   \n",
       "3   53                    40.0                    0                    0   \n",
       "4   28                    40.0                    0                    1   \n",
       "\n",
       "   education_Doctorate  education_HS-grad  education_Masters  \\\n",
       "0                    0                  0                  0   \n",
       "1                    0                  0                  0   \n",
       "2                    0                  1                  0   \n",
       "3                    0                  0                  0   \n",
       "4                    0                  0                  0   \n",
       "\n",
       "   education_Preschool  education_Prof-school  education_Some-college  ...  \\\n",
       "0                    0                      0                       0  ...   \n",
       "1                    0                      0                       0  ...   \n",
       "2                    0                      0                       0  ...   \n",
       "3                    0                      0                       0  ...   \n",
       "4                    0                      0                       0  ...   \n",
       "\n",
       "   occupation_Handlers-cleaners  occupation_Machine-op-inspct  \\\n",
       "0                             0                             0   \n",
       "1                             0                             0   \n",
       "2                             1                             0   \n",
       "3                             1                             0   \n",
       "4                             0                             0   \n",
       "\n",
       "   occupation_Other-service  occupation_Priv-house-serv  \\\n",
       "0                         0                           0   \n",
       "1                         0                           0   \n",
       "2                         0                           0   \n",
       "3                         0                           0   \n",
       "4                         0                           0   \n",
       "\n",
       "   occupation_Prof-specialty  occupation_Protective-serv  occupation_Sales  \\\n",
       "0                          0                           0                 0   \n",
       "1                          0                           0                 0   \n",
       "2                          0                           0                 0   \n",
       "3                          0                           0                 0   \n",
       "4                          1                           0                 0   \n",
       "\n",
       "   occupation_Tech-support  occupation_Transport-moving  occupation_missing  \n",
       "0                        0                            0                   0  \n",
       "1                        0                            0                   0  \n",
       "2                        0                            0                   0  \n",
       "3                        0                            0                   0  \n",
       "4                        0                            0                   0  \n",
       "\n",
       "[5 rows x 25 columns]"
      ]
     },
     "execution_count": 56,
     "metadata": {},
     "output_type": "execute_result"
    }
   ],
   "source": [
    "X.head()"
   ]
  },
  {
   "cell_type": "code",
   "execution_count": null,
   "id": "b2a90c6f",
   "metadata": {},
   "outputs": [],
   "source": []
  },
  {
   "cell_type": "code",
   "execution_count": 57,
   "id": "1297df9d",
   "metadata": {},
   "outputs": [
    {
     "data": {
      "text/plain": [
       "(32537, 25)"
      ]
     },
     "execution_count": 57,
     "metadata": {},
     "output_type": "execute_result"
    }
   ],
   "source": [
    "X.shape"
   ]
  },
  {
   "cell_type": "code",
   "execution_count": 58,
   "id": "f93cdbee",
   "metadata": {},
   "outputs": [],
   "source": [
    "# i am splitting the data into training, validation and testing\n",
    "from sklearn.model_selection import train_test_split\n",
    "\n",
    "X_temp, X_test, y_temp, y_test = train_test_split(X, y, test_size = 0.2, random_state = 0)\n",
    "X_train, X_val, y_train, y_val = train_test_split(X_temp, y_temp, test_size = 0.2, random_state = 0)"
   ]
  },
  {
   "cell_type": "code",
   "execution_count": 59,
   "id": "5b7f8658",
   "metadata": {},
   "outputs": [
    {
     "data": {
      "text/plain": [
       "(26029, 25)"
      ]
     },
     "execution_count": 59,
     "metadata": {},
     "output_type": "execute_result"
    }
   ],
   "source": [
    "X_temp.shape"
   ]
  },
  {
   "cell_type": "code",
   "execution_count": 60,
   "id": "50051875",
   "metadata": {},
   "outputs": [
    {
     "data": {
      "text/plain": [
       "(6508, 25)"
      ]
     },
     "execution_count": 60,
     "metadata": {},
     "output_type": "execute_result"
    }
   ],
   "source": [
    "X_test.shape"
   ]
  },
  {
   "cell_type": "code",
   "execution_count": 61,
   "id": "388d9ad4",
   "metadata": {},
   "outputs": [
    {
     "data": {
      "text/plain": [
       "(5206, 25)"
      ]
     },
     "execution_count": 61,
     "metadata": {},
     "output_type": "execute_result"
    }
   ],
   "source": [
    "X_val.shape"
   ]
  },
  {
   "cell_type": "code",
   "execution_count": 62,
   "id": "d0ee8d57",
   "metadata": {},
   "outputs": [],
   "source": [
    "# Scale/ Normalize the model \n",
    "scaler = StandardScaler()\n",
    "\n",
    "# Transform the training, validation, and testing data\n",
    "X_train_scaled = scaler.fit_transform(X_train)\n",
    "X_val_scaled = scaler.transform(X_val)\n",
    "X_test_scaled = scaler.transform(X_test)"
   ]
  },
  {
   "cell_type": "code",
   "execution_count": 64,
   "id": "2a30a3e6",
   "metadata": {},
   "outputs": [],
   "source": [
    "# train the model\n",
    "from sklearn.linear_model import LogisticRegression\n",
    "from sklearn.metrics import r2_score, mean_squared_error, mean_absolute_error"
   ]
  },
  {
   "cell_type": "code",
   "execution_count": 65,
   "id": "dbea1869",
   "metadata": {},
   "outputs": [
    {
     "data": {
      "text/html": [
       "<style>#sk-container-id-1 {color: black;background-color: white;}#sk-container-id-1 pre{padding: 0;}#sk-container-id-1 div.sk-toggleable {background-color: white;}#sk-container-id-1 label.sk-toggleable__label {cursor: pointer;display: block;width: 100%;margin-bottom: 0;padding: 0.3em;box-sizing: border-box;text-align: center;}#sk-container-id-1 label.sk-toggleable__label-arrow:before {content: \"▸\";float: left;margin-right: 0.25em;color: #696969;}#sk-container-id-1 label.sk-toggleable__label-arrow:hover:before {color: black;}#sk-container-id-1 div.sk-estimator:hover label.sk-toggleable__label-arrow:before {color: black;}#sk-container-id-1 div.sk-toggleable__content {max-height: 0;max-width: 0;overflow: hidden;text-align: left;background-color: #f0f8ff;}#sk-container-id-1 div.sk-toggleable__content pre {margin: 0.2em;color: black;border-radius: 0.25em;background-color: #f0f8ff;}#sk-container-id-1 input.sk-toggleable__control:checked~div.sk-toggleable__content {max-height: 200px;max-width: 100%;overflow: auto;}#sk-container-id-1 input.sk-toggleable__control:checked~label.sk-toggleable__label-arrow:before {content: \"▾\";}#sk-container-id-1 div.sk-estimator input.sk-toggleable__control:checked~label.sk-toggleable__label {background-color: #d4ebff;}#sk-container-id-1 div.sk-label input.sk-toggleable__control:checked~label.sk-toggleable__label {background-color: #d4ebff;}#sk-container-id-1 input.sk-hidden--visually {border: 0;clip: rect(1px 1px 1px 1px);clip: rect(1px, 1px, 1px, 1px);height: 1px;margin: -1px;overflow: hidden;padding: 0;position: absolute;width: 1px;}#sk-container-id-1 div.sk-estimator {font-family: monospace;background-color: #f0f8ff;border: 1px dotted black;border-radius: 0.25em;box-sizing: border-box;margin-bottom: 0.5em;}#sk-container-id-1 div.sk-estimator:hover {background-color: #d4ebff;}#sk-container-id-1 div.sk-parallel-item::after {content: \"\";width: 100%;border-bottom: 1px solid gray;flex-grow: 1;}#sk-container-id-1 div.sk-label:hover label.sk-toggleable__label {background-color: #d4ebff;}#sk-container-id-1 div.sk-serial::before {content: \"\";position: absolute;border-left: 1px solid gray;box-sizing: border-box;top: 0;bottom: 0;left: 50%;z-index: 0;}#sk-container-id-1 div.sk-serial {display: flex;flex-direction: column;align-items: center;background-color: white;padding-right: 0.2em;padding-left: 0.2em;position: relative;}#sk-container-id-1 div.sk-item {position: relative;z-index: 1;}#sk-container-id-1 div.sk-parallel {display: flex;align-items: stretch;justify-content: center;background-color: white;position: relative;}#sk-container-id-1 div.sk-item::before, #sk-container-id-1 div.sk-parallel-item::before {content: \"\";position: absolute;border-left: 1px solid gray;box-sizing: border-box;top: 0;bottom: 0;left: 50%;z-index: -1;}#sk-container-id-1 div.sk-parallel-item {display: flex;flex-direction: column;z-index: 1;position: relative;background-color: white;}#sk-container-id-1 div.sk-parallel-item:first-child::after {align-self: flex-end;width: 50%;}#sk-container-id-1 div.sk-parallel-item:last-child::after {align-self: flex-start;width: 50%;}#sk-container-id-1 div.sk-parallel-item:only-child::after {width: 0;}#sk-container-id-1 div.sk-dashed-wrapped {border: 1px dashed gray;margin: 0 0.4em 0.5em 0.4em;box-sizing: border-box;padding-bottom: 0.4em;background-color: white;}#sk-container-id-1 div.sk-label label {font-family: monospace;font-weight: bold;display: inline-block;line-height: 1.2em;}#sk-container-id-1 div.sk-label-container {text-align: center;}#sk-container-id-1 div.sk-container {/* jupyter's `normalize.less` sets `[hidden] { display: none; }` but bootstrap.min.css set `[hidden] { display: none !important; }` so we also need the `!important` here to be able to override the default hidden behavior on the sphinx rendered scikit-learn.org. See: https://github.com/scikit-learn/scikit-learn/issues/21755 */display: inline-block !important;position: relative;}#sk-container-id-1 div.sk-text-repr-fallback {display: none;}</style><div id=\"sk-container-id-1\" class=\"sk-top-container\"><div class=\"sk-text-repr-fallback\"><pre>LogisticRegression()</pre><b>In a Jupyter environment, please rerun this cell to show the HTML representation or trust the notebook. <br />On GitHub, the HTML representation is unable to render, please try loading this page with nbviewer.org.</b></div><div class=\"sk-container\" hidden><div class=\"sk-item\"><div class=\"sk-estimator sk-toggleable\"><input class=\"sk-toggleable__control sk-hidden--visually\" id=\"sk-estimator-id-1\" type=\"checkbox\" checked><label for=\"sk-estimator-id-1\" class=\"sk-toggleable__label sk-toggleable__label-arrow\">LogisticRegression</label><div class=\"sk-toggleable__content\"><pre>LogisticRegression()</pre></div></div></div></div></div>"
      ],
      "text/plain": [
       "LogisticRegression()"
      ]
     },
     "execution_count": 65,
     "metadata": {},
     "output_type": "execute_result"
    }
   ],
   "source": [
    "# create an instance\n",
    "log_regression = LogisticRegression()\n",
    "\n",
    "# Train the model on the scaled training data\n",
    "log_regression.fit(X_train_scaled, y_train)"
   ]
  },
  {
   "cell_type": "code",
   "execution_count": 66,
   "id": "570415e9",
   "metadata": {},
   "outputs": [],
   "source": [
    "y_val_pred = log_regression.predict(X_val_scaled)"
   ]
  },
  {
   "cell_type": "code",
   "execution_count": 67,
   "id": "bbea2ef8",
   "metadata": {},
   "outputs": [
    {
     "data": {
      "text/plain": [
       "array([0, 0, 0, ..., 1, 1, 0], dtype=int64)"
      ]
     },
     "execution_count": 67,
     "metadata": {},
     "output_type": "execute_result"
    }
   ],
   "source": [
    "y_val_pred"
   ]
  },
  {
   "cell_type": "markdown",
   "id": "aac16053",
   "metadata": {},
   "source": [
    "### Checking the model performance"
   ]
  },
  {
   "cell_type": "code",
   "execution_count": 68,
   "id": "abb35cb8",
   "metadata": {},
   "outputs": [],
   "source": [
    "from utils import model_performance_regression"
   ]
  },
  {
   "cell_type": "code",
   "execution_count": 72,
   "id": "e01b2151",
   "metadata": {},
   "outputs": [
    {
     "data": {
      "text/html": [
       "<div>\n",
       "<style scoped>\n",
       "    .dataframe tbody tr th:only-of-type {\n",
       "        vertical-align: middle;\n",
       "    }\n",
       "\n",
       "    .dataframe tbody tr th {\n",
       "        vertical-align: top;\n",
       "    }\n",
       "\n",
       "    .dataframe thead th {\n",
       "        text-align: right;\n",
       "    }\n",
       "</style>\n",
       "<table border=\"1\" class=\"dataframe\">\n",
       "  <thead>\n",
       "    <tr style=\"text-align: right;\">\n",
       "      <th></th>\n",
       "      <th>RMSE</th>\n",
       "      <th>MAE</th>\n",
       "      <th>R-squared</th>\n",
       "      <th>Adj. R-squared</th>\n",
       "      <th>MAPE</th>\n",
       "    </tr>\n",
       "  </thead>\n",
       "  <tbody>\n",
       "    <tr>\n",
       "      <th>0</th>\n",
       "      <td>0.445621</td>\n",
       "      <td>0.198578</td>\n",
       "      <td>-0.089074</td>\n",
       "      <td>-0.090383</td>\n",
       "      <td>inf</td>\n",
       "    </tr>\n",
       "  </tbody>\n",
       "</table>\n",
       "</div>"
      ],
      "text/plain": [
       "       RMSE       MAE  R-squared  Adj. R-squared  MAPE\n",
       "0  0.445621  0.198578  -0.089074       -0.090383   inf"
      ]
     },
     "execution_count": 72,
     "metadata": {},
     "output_type": "execute_result"
    }
   ],
   "source": [
    "log_reg_train = model_performance_regression(log_regression, X_train_scaled, y_train)\n",
    "log_reg_train"
   ]
  },
  {
   "cell_type": "code",
   "execution_count": 73,
   "id": "70ac894d",
   "metadata": {},
   "outputs": [
    {
     "data": {
      "text/html": [
       "<div>\n",
       "<style scoped>\n",
       "    .dataframe tbody tr th:only-of-type {\n",
       "        vertical-align: middle;\n",
       "    }\n",
       "\n",
       "    .dataframe tbody tr th {\n",
       "        vertical-align: top;\n",
       "    }\n",
       "\n",
       "    .dataframe thead th {\n",
       "        text-align: right;\n",
       "    }\n",
       "</style>\n",
       "<table border=\"1\" class=\"dataframe\">\n",
       "  <thead>\n",
       "    <tr style=\"text-align: right;\">\n",
       "      <th></th>\n",
       "      <th>RMSE</th>\n",
       "      <th>MAE</th>\n",
       "      <th>R-squared</th>\n",
       "      <th>Adj. R-squared</th>\n",
       "      <th>MAPE</th>\n",
       "    </tr>\n",
       "  </thead>\n",
       "  <tbody>\n",
       "    <tr>\n",
       "      <th>0</th>\n",
       "      <td>0.448029</td>\n",
       "      <td>0.20073</td>\n",
       "      <td>-0.117455</td>\n",
       "      <td>-0.122848</td>\n",
       "      <td>inf</td>\n",
       "    </tr>\n",
       "  </tbody>\n",
       "</table>\n",
       "</div>"
      ],
      "text/plain": [
       "       RMSE      MAE  R-squared  Adj. R-squared  MAPE\n",
       "0  0.448029  0.20073  -0.117455       -0.122848   inf"
      ]
     },
     "execution_count": 73,
     "metadata": {},
     "output_type": "execute_result"
    }
   ],
   "source": [
    "log_reg_val = model_performance_regression(log_regression, X_val_scaled, y_val)\n",
    "log_reg_val"
   ]
  },
  {
   "cell_type": "code",
   "execution_count": null,
   "id": "76d9d25e",
   "metadata": {},
   "outputs": [],
   "source": []
  }
 ],
 "metadata": {
  "kernelspec": {
   "display_name": "Python 3 (ipykernel)",
   "language": "python",
   "name": "python3"
  },
  "language_info": {
   "codemirror_mode": {
    "name": "ipython",
    "version": 3
   },
   "file_extension": ".py",
   "mimetype": "text/x-python",
   "name": "python",
   "nbconvert_exporter": "python",
   "pygments_lexer": "ipython3",
   "version": "3.11.3"
  }
 },
 "nbformat": 4,
 "nbformat_minor": 5
}
